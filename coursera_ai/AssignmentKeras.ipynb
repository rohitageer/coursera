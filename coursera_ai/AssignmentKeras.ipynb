{
    "cells": [
        {
            "cell_type": "markdown", 
            "source": "# Keras exercise\n\nIn this exercise you will be creating a Keras model by loading a data set, preprocessing input data, building a Sequential Keras model and compiling the model with a training configuration. Afterwards, you train your model on the training data and evaluate it on the test set. To finish this exercise, you will then save your model in HDF5 format.\n\n##\u00a0Data\n\nFor this exercise we will use the Reuters newswire dataset. This dataset consists of 11,228 newswires from the Reuters news agency. Each wire is encoded as a sequence of word indexes, just as in the IMDB data we encountered in lecture 5 of this series. Moreover, each wire is categorised into one of 46 topics, which will serve as our label. This dataset is available through the Keras API.\n\n## Goal\n\nWe want to create a Multi-layer perceptron (MLP) using Keras which we can train to classify news items into the specified 46 topics.\n\n## Instructions\n\nWe start by importing everything we need for this exercise:", 
            "metadata": {}
        }, 
        {
            "cell_type": "code", 
            "source": "import pip\n\ntry:\n    __import__('keras')\nexcept ImportError:\n    pip.main(['install', 'keras']) \n    \ntry:\n    __import__('h5py')\nexcept ImportError:\n    pip.main(['install', 'h5py']) \n\nimport numpy as np\nfrom keras.models import Sequential\nfrom keras.layers import Dense, Dropout\nfrom keras.utils import to_categorical\nimport h5py\n\nseed = 1337\nnp.random.seed(seed)", 
            "execution_count": 1, 
            "metadata": {}, 
            "outputs": [
                {
                    "output_type": "stream", 
                    "text": "Using TensorFlow backend.\n", 
                    "name": "stderr"
                }
            ]
        }, 
        {
            "cell_type": "markdown", 
            "source": "As you can see, we use Keras' Sequential model with only two types of layers: Dense and Dropout. We also specify a random seed to make our results reproducible. Next, we load the Reuters data set:", 
            "metadata": {}
        }, 
        {
            "cell_type": "code", 
            "source": "from keras.datasets import reuters\n\nmax_words = 1000\n(x_train, y_train), (x_test, y_test) = reuters.load_data(num_words=max_words,\n                                                         test_split=0.2,\n                                                         seed=seed)\nnum_classes = np.max(y_train) + 1  # 46 topics", 
            "execution_count": 2, 
            "metadata": {}, 
            "outputs": []
        }, 
        {
            "cell_type": "markdown", 
            "source": "Note that we cap the maximum number of words in a news item to 1000 by specifying the *num_words* key word. Also, 20% of the data will be test data and we ensure reproducibility by setting our random seed.\n\nOur training features are still simply sequences of indexes and we need to further preprocess them, so that we can plug them into a *Dense* layer. For this we use a *Tokenizer* from Keras' text preprocessing module. This tokenizer will take an index sequence and map it to a vector of length *max_words=1000*. Each of the 1000 vector positions corresponds to one of the words in our newswire corpus. The output of the tokenizer has a 1 at the i-th position of the vector, if the word corresponding to i is in the description of the newswire, and 0 otherwise. Even if this word appears multiple times, we still just put a 1 into our vector, i.e. our tokenizer is binary. We use this tokenizer to transform both train and test features:", 
            "metadata": {}
        }, 
        {
            "cell_type": "code", 
            "source": "from keras.preprocessing.text import Tokenizer\n\ntokenizer = Tokenizer(num_words=max_words)\nx_train = tokenizer.sequences_to_matrix(x_train, mode='binary')\nx_test = tokenizer.sequences_to_matrix(x_test, mode='binary')", 
            "execution_count": 3, 
            "metadata": {}, 
            "outputs": []
        }, 
        {
            "cell_type": "markdown", 
            "source": "## 1. Exercise part: label encoding\n\nUse to_categorical, as we did in the lectures, to transform both *y_train* and *y_test* into one-hot encoded vectors of length *num_classes*:", 
            "metadata": {}
        }, 
        {
            "cell_type": "code", 
            "source": "y_train = to_categorical(y_train, num_classes)\ny_test = to_categorical(y_test, num_classes)", 
            "execution_count": 4, 
            "metadata": {}, 
            "outputs": []
        }, 
        {
            "cell_type": "markdown", 
            "source": "##\u00a02. Exercise part: model definition\n\nNext, initialise a Keras *Sequential* model and add three layers to it:\n\n    Layer: Add a *Dense* layer with in input_shape=(max_words,), 512 output units and \"relu\" activation.\n    Layer: Add a *Dropout* layer with dropout rate of 50%.\n    Layer: Add a *Dense* layer with num_classes output units and \"softmax\" activation.", 
            "metadata": {}
        }, 
        {
            "cell_type": "code", 
            "source": "model = Sequential()  # Instantiate sequential model\nmodel.add(Dense(512, activation = 'relu', input_shape = (max_words, ))) # Add first layer. Make sure to specify input shape\nmodel.add(Dropout(0.5)) # Add second layer\nmodel.add(Dense(num_classes, activation = 'softmax')) # Add third layer", 
            "execution_count": 5, 
            "metadata": {}, 
            "outputs": []
        }, 
        {
            "cell_type": "markdown", 
            "source": "## 3. Exercise part: model compilation\n\nAs the next step, we need to compile our Keras model with a training configuration. Compile your model with \"categorical_crossentropy\" as loss function, \"adam\" as optimizer and specify \"accuracy\" as evaluation metric.", 
            "metadata": {}
        }, 
        {
            "cell_type": "code", 
            "source": "model.compile(loss = 'categorical_crossentropy', optimizer = 'adam', metrics = ['accuracy'])", 
            "execution_count": 6, 
            "metadata": {}, 
            "outputs": []
        }, 
        {
            "cell_type": "markdown", 
            "source": "## 4. Exercise part: model training and evaluation\n\nNext, define the batch_size for training as 32 and train the model for 5 epochs on *x_train* and *y_train* by using the *fit* method of your model. Then calculate the score for your trained model by running *evaluate* on *x_test* and *y_test* with the same batch size as used in *fit*.", 
            "metadata": {}
        }, 
        {
            "cell_type": "code", 
            "source": "batch_size = 32\nmodel.fit(x_train, y_train, batch_size = batch_size, epochs = 5, validation_data = (x_test, y_test))\nscore = model.evaluate(x_test, y_test, verbose = 0, batch_size = batch_size)", 
            "execution_count": 7, 
            "metadata": {}, 
            "outputs": [
                {
                    "output_type": "stream", 
                    "text": "Train on 8982 samples, validate on 2246 samples\nEpoch 1/5\n8982/8982 [==============================] - 10s - loss: 1.3971 - acc: 0.6887 - val_loss: 0.9760 - val_acc: 0.7765\nEpoch 2/5\n8982/8982 [==============================] - 9s - loss: 0.7710 - acc: 0.8193 - val_loss: 0.8248 - val_acc: 0.8094\nEpoch 3/5\n8982/8982 [==============================] - 9s - loss: 0.5550 - acc: 0.8671 - val_loss: 0.8194 - val_acc: 0.8094\nEpoch 4/5\n8982/8982 [==============================] - 9s - loss: 0.4199 - acc: 0.8925 - val_loss: 0.8321 - val_acc: 0.8028\nEpoch 5/5\n8982/8982 [==============================] - 8s - loss: 0.3474 - acc: 0.9105 - val_loss: 0.8591 - val_acc: 0.7996\n", 
                    "name": "stdout"
                }
            ]
        }, 
        {
            "cell_type": "markdown", 
            "source": "If you have done everything as specified, in particular set the random seed as we did above, your test accuracy should be around 80% ", 
            "metadata": {}
        }, 
        {
            "cell_type": "code", 
            "source": "score[1]", 
            "execution_count": 8, 
            "metadata": {}, 
            "outputs": [
                {
                    "output_type": "execute_result", 
                    "metadata": {}, 
                    "execution_count": 8, 
                    "data": {
                        "text/plain": "0.79964381121994654"
                    }
                }
            ]
        }, 
        {
            "cell_type": "markdown", 
            "source": "\n\n##\u00a05. Exercise part: model serialisation\n\nAs the final step in this exercise, save your model as \"model.h5\" and upload this file for evaluation:", 
            "metadata": {}
        }, 
        {
            "cell_type": "code", 
            "source": "model.save(\"model.h5\")  # upload this file to the grader in the next code block", 
            "execution_count": 9, 
            "metadata": {}, 
            "outputs": []
        }, 
        {
            "cell_type": "markdown", 
            "source": "To upload the exported model to the grader we first need to encode it based64, we are doing this using a shell command:", 
            "metadata": {}
        }, 
        {
            "cell_type": "code", 
            "source": "!base64 model.h5 > model.h5.base64", 
            "execution_count": 10, 
            "metadata": {}, 
            "outputs": []
        }, 
        {
            "cell_type": "markdown", 
            "source": "Then we have to install a little library in order to submit to coursera", 
            "metadata": {}
        }, 
        {
            "cell_type": "code", 
            "source": "!rm -f rklib.py\n!wget https://raw.githubusercontent.com/romeokienzler/developerWorks/master/coursera/ai/rklib.py", 
            "execution_count": 11, 
            "metadata": {}, 
            "outputs": [
                {
                    "output_type": "stream", 
                    "text": "--2018-02-10 03:38:02--  https://raw.githubusercontent.com/romeokienzler/developerWorks/master/coursera/ai/rklib.py\nResolving raw.githubusercontent.com (raw.githubusercontent.com)... 151.101.36.133\nConnecting to raw.githubusercontent.com (raw.githubusercontent.com)|151.101.36.133|:443... connected.\nHTTP request sent, awaiting response... 200 OK\nLength: 2029 (2.0K) [text/plain]\nSaving to: \u2018rklib.py\u2019\n\n100%[======================================>] 2,029       --.-K/s   in 0s      \n\n2018-02-10 03:38:02 (12.4 MB/s) - \u2018rklib.py\u2019 saved [2029/2029]\n\n", 
                    "name": "stdout"
                }
            ]
        }, 
        {
            "cell_type": "markdown", 
            "source": "Please provide your email address and obtain a submission token (secret)on the grader\u2019s submission page in coursera, then execute the cell", 
            "metadata": {}
        }, 
        {
            "cell_type": "code", 
            "source": "from rklib import submit\nkey = \"XbAMqtjdEeepUgo7OOVwng\"\npart = \"LqPRQ\"\nemail = \"###_YOUR_CODE_GOES_HERE_###\"\nsecret = \"###_YOUR_CODE_GOES_HERE_###\"\n\nwith open('model.h5.base64', 'r') as myfile:\n    data=myfile.read()\nsubmit(email, secret, key, part, [part], data)", 
            "execution_count": 5, 
            "metadata": {}, 
            "outputs": [
                {
                    "output_type": "stream", 
                    "text": "Submission successful, please check on the coursera grader page for the status\n", 
                    "name": "stdout"
                }
            ]
        }
    ], 
    "nbformat_minor": 1, 
    "metadata": {
        "kernelspec": {
            "language": "python", 
            "name": "python2-spark21", 
            "display_name": "Python 2 with Spark 2.1"
        }, 
        "language_info": {
            "pygments_lexer": "ipython2", 
            "nbconvert_exporter": "python", 
            "mimetype": "text/x-python", 
            "name": "python", 
            "version": "2.7.11", 
            "file_extension": ".py", 
            "codemirror_mode": {
                "version": 2, 
                "name": "ipython"
            }
        }
    }, 
    "nbformat": 4
}
